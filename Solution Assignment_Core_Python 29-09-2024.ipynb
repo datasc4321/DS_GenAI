{
 "cells": [
  {
   "cell_type": "markdown",
   "metadata": {
    "id": "R-BuZMWldB5U"
   },
   "source": [
    "Write a program to check whether a number given by a user is divisible by 2 and 3 both"
   ]
  },
  {
   "cell_type": "code",
   "execution_count": 11,
   "metadata": {},
   "outputs": [
    {
     "name": "stdin",
     "output_type": "stream",
     "text": [
      "please enter the number 16\n"
     ]
    },
    {
     "name": "stdout",
     "output_type": "stream",
     "text": [
      "The number is not divisible by 2 and 3\n"
     ]
    }
   ],
   "source": [
    "num = int(input(\"please enter the number\"))\n",
    "if num%6==0:\n",
    "    print(\"The number is divisible by 2 and 3\")\n",
    "else: \n",
    "    print(\"The number is not divisible by 2 and 3\")"
   ]
  },
  {
   "cell_type": "markdown",
   "metadata": {
    "id": "AqOIDUz4cycG"
   },
   "source": [
    "Define a function to create and print a list where the values are square of numbers between 1 and 30 (both included)."
   ]
  },
  {
   "cell_type": "code",
   "execution_count": 12,
   "metadata": {},
   "outputs": [
    {
     "name": "stdout",
     "output_type": "stream",
     "text": [
      "[1, 4, 9, 16, 25, 36, 49, 64, 81, 100, 121, 144, 169, 196, 225, 256, 289, 324, 361, 400, 441, 484, 529, 576, 625, 676, 729, 784, 841, 900]\n"
     ]
    }
   ],
   "source": [
    "def square(n):\n",
    "    num_list = [i**2 for i in range(1,n+1)]\n",
    "    print(num_list)\n",
    "\n",
    "square(30)"
   ]
  },
  {
   "cell_type": "markdown",
   "metadata": {
    "id": "MdAkQQ_Y4wwG"
   },
   "source": [
    "Write a program which accepts month's name as input and display the number of days in the month as output"
   ]
  },
  {
   "cell_type": "code",
   "execution_count": 19,
   "metadata": {
    "scrolled": true
   },
   "outputs": [
    {
     "name": "stdin",
     "output_type": "stream",
     "text": [
      "Enter the month's name Feb\n",
      "Enter the current year 2025\n"
     ]
    },
    {
     "name": "stdout",
     "output_type": "stream",
     "text": [
      "The year is not a leap year, number of days in February=28\n"
     ]
    }
   ],
   "source": [
    "month_31 = ['Jan' , 'Mar' , 'May' , 'Jul' , 'Aug' , 'Oct' , 'Dec']\n",
    "month_30 = ['Apr', 'Jun', 'Sep', 'Nov']\n",
    "month = str(input(\"Enter the month's name\"))\n",
    "if month in month_31:\n",
    "    print(\"number of days = 31\")\n",
    "elif month=='Feb':\n",
    "    current_year = int(input(\"Enter the current year\"))\n",
    "    if current_year%4==0:\n",
    "        print(\"The year is a leap year, number of days in February=29\")\n",
    "    else:\n",
    "        print(\"The year is not a leap year, number of days in February=28\")\n",
    "elif month in month_30:\n",
    "    print(\"Number of days=30\")"
   ]
  },
  {
   "cell_type": "code",
   "execution_count": 38,
   "metadata": {},
   "outputs": [
    {
     "name": "stdin",
     "output_type": "stream",
     "text": [
      "Enter the month's name Feb\n",
      "Enter the current year 2024\n"
     ]
    },
    {
     "name": "stdout",
     "output_type": "stream",
     "text": [
      "number of days = 31\n"
     ]
    }
   ],
   "source": [
    "# Aliter \n",
    "months = ['Jan', 'Feb', 'Mar', 'Apr', 'May','Jun', 'Jul', 'Aug' ,'Sep', 'Oct' ,'Nov', 'Dec']\n",
    "month = str(input(\"Enter the month's name\"))\n",
    "\n",
    "if month not in months:\n",
    "    print(\"Enter valid month name\")\n",
    "else:\n",
    "    if month == 'Jan' or 'Mar' or 'May' or 'Jul' or 'Aug' or 'Oct' or 'Dec':\n",
    "        print(\"number of days = 31\")\n",
    "    elif month == 'Feb':\n",
    "        current_year = int(input(\"Enter the current year\"))\n",
    "        if current_year%4==0:\n",
    "            print(\"The year is a leap year, number of days in February=29\")\n",
    "        else:\n",
    "            print(\"The year is not a leap year, number of days in February=28\")\n",
    "    elif month == 'Apr'or 'Jun' or 'Sep' or 'Nov':\n",
    "            print(\"Number of days=30\")"
   ]
  },
  {
   "cell_type": "markdown",
   "metadata": {
    "id": "Q8cCBC198J6M"
   },
   "source": [
    "Take any word as input from the user and count the number of vowels in the word"
   ]
  },
  {
   "cell_type": "code",
   "execution_count": 47,
   "metadata": {},
   "outputs": [
    {
     "name": "stdin",
     "output_type": "stream",
     "text": [
      "Enter the word english\n"
     ]
    },
    {
     "name": "stdout",
     "output_type": "stream",
     "text": [
      "The number of vowels in letter english is equal to 2\n"
     ]
    }
   ],
   "source": [
    "word = str(input(\"Enter the word\"))\n",
    "vowels = ['a', 'e', 'i', 'o', 'u']\n",
    "count = 0\n",
    "for alphabet in word:\n",
    "    if alphabet in vowel:\n",
    "        count+=1\n",
    "print(f\"The number of vowels in letter {word} is equal to {count}\")"
   ]
  },
  {
   "cell_type": "code",
   "execution_count": null,
   "metadata": {},
   "outputs": [],
   "source": [
    "Define a function that accepts a number and returns whether the number is even or odd."
   ]
  },
  {
   "cell_type": "code",
   "execution_count": 52,
   "metadata": {},
   "outputs": [
    {
     "name": "stdin",
     "output_type": "stream",
     "text": [
      "Enter the number 23\n"
     ]
    },
    {
     "name": "stdout",
     "output_type": "stream",
     "text": [
      "Odd number\n"
     ]
    }
   ],
   "source": [
    "def even_odd(num):\n",
    "    num = int(input(\"Enter the number\"))\n",
    "    if num%2==0:\n",
    "        print(\"Even number\")\n",
    "    else:\n",
    "        print(\"Odd number\")\n",
    "even_odd(num)"
   ]
  },
  {
   "cell_type": "markdown",
   "metadata": {
    "id": "1ugWwVXd49OI"
   },
   "source": [
    "# Write a program to separate even and odd numbers in two distinct lists from a list of numbers of your choice"
   ]
  },
  {
   "cell_type": "code",
   "execution_count": 12,
   "metadata": {},
   "outputs": [
    {
     "name": "stdout",
     "output_type": "stream",
     "text": [
      "List of even numbers:  [2, 4, 6, 8, 10, 12, 14, 16, 18, 20, 22, 24, 26, 28, 30, 32, 34, 36, 38, 40, 42, 44, 46, 48, 50]\n",
      "List of odd numbers:  [1, 3, 5, 7, 9, 11, 13, 15, 17, 19, 21, 23, 25, 27, 29, 31, 33, 35, 37, 39, 41, 43, 45, 47, 49]\n"
     ]
    }
   ],
   "source": [
    "l1 = [i for i in range(1,51)] # list of integers from 1 to 50\n",
    "list_even = [] # empty list\n",
    "list_odd = []\n",
    "\n",
    "for num in l1:\n",
    "    if num%2==0: # check for even number\n",
    "        list_even.append(num)\n",
    "    elif num%2!=0: # check for odd number\n",
    "        list_odd.append(num)\n",
    "\n",
    "print(\"List of even numbers: \",list_even)\n",
    "print(\"List of odd numbers: \",list_odd)"
   ]
  },
  {
   "cell_type": "markdown",
   "metadata": {
    "id": "uaqnGrhs49Mf"
   },
   "source": [
    "Write a program that appends datatype of elements from a list to a separate list"
   ]
  },
  {
   "cell_type": "code",
   "execution_count": 20,
   "metadata": {},
   "outputs": [
    {
     "name": "stdout",
     "output_type": "stream",
     "text": [
      "[<class 'str'>, <class 'str'>, <class 'int'>, <class 'int'>, <class 'list'>, <class 'tuple'>]\n"
     ]
    }
   ],
   "source": [
    "list1 = ['ajay', 'mohan', 12, 33, [1, 2, 3], (4, 5, 6)]\n",
    "list2 = []\n",
    "for i in list1:\n",
    "    list2.append(type(i))\n",
    "print(list2)"
   ]
  },
  {
   "cell_type": "markdown",
   "metadata": {
    "id": "KjwWgu2idG3Q"
   },
   "source": [
    "Write a program to accept the cost price of a bike as input and display the road tax to be paid according to the following crieteria :-\n",
    "\n",
    "Cost price - 100000 Tax - 15%\n",
    "\n",
    "Cost price - between 50000 to 100000 Tax - 10%\n",
    "\n",
    "Cost price - less than 50000 Tax - 5%"
   ]
  },
  {
   "cell_type": "code",
   "execution_count": 28,
   "metadata": {},
   "outputs": [
    {
     "name": "stdin",
     "output_type": "stream",
     "text": [
      "Enter the cost price of the bike 80000\n"
     ]
    },
    {
     "name": "stdout",
     "output_type": "stream",
     "text": [
      "The road tax is Rs. 8000.0\n"
     ]
    }
   ],
   "source": [
    "cp = int(input(\"Enter the cost price of the bike\"))\n",
    "if cp == 100000:\n",
    "    road_tax = cp * 15/100\n",
    "    print(\"The road tax is Rs.\", road_tax)\n",
    "elif cp>=50000 and cp<100000:\n",
    "    road_tax = cp * 10/100\n",
    "    print(\"The road tax is Rs.\", road_tax)\n",
    "elif cp < 50000:\n",
    "    road_tax = cp * 5/100\n",
    "    print(\"The road tax is Rs.\", road_tax)"
   ]
  },
  {
   "cell_type": "markdown",
   "metadata": {
    "id": "ddMu0Pj1643Y"
   },
   "source": [
    "Write a program to display only those numbers from a list that satisfies the following conditions:\n",
    "\n",
    "1. The number must be divisible by 7\n",
    "\n",
    "2. If the number is 140 then skip it and move to the next number in the list\n",
    "\n",
    "3. If the number in the list is greater than 630 then stop the loop"
   ]
  },
  {
   "cell_type": "code",
   "execution_count": 36,
   "metadata": {},
   "outputs": [
    {
     "name": "stdout",
     "output_type": "stream",
     "text": [
      "[1, 2, 3, 4, 5, 6, 7, 8, 9, 10, 11, 12, 13, 14, 15, 16, 17, 18, 19, 20, 21, 22, 23, 24, 25, 26, 27, 28, 29, 30, 31, 32, 33, 34, 35, 36, 37, 38, 39, 40, 41, 42, 43, 44, 45, 46, 47, 48, 49, 50, 51, 52, 53, 54, 55, 56, 57, 58, 59, 60, 61, 62, 63, 64, 65, 66, 67, 68, 69, 70, 71, 72, 73, 74, 75, 76, 77, 78, 79, 80, 81, 82, 83, 84, 85, 86, 87, 88, 89, 90, 91, 92, 93, 94, 95, 96, 97, 98, 99, 100, 101, 102, 103, 104, 105, 106, 107, 108, 109, 110, 111, 112, 113, 114, 115, 116, 117, 118, 119, 120, 121, 122, 123, 124, 125, 126, 127, 128, 129, 130, 131, 132, 133, 134, 135, 136, 137, 138, 139, 140, 141, 142, 143, 144, 145, 146, 147, 148, 149, 150, 151, 152, 153, 154, 155, 156, 157, 158, 159, 160, 161, 162, 163, 164, 165, 166, 167, 168, 169, 170, 171, 172, 173, 174, 175, 176, 177, 178, 179, 180, 181, 182, 183, 184, 185, 186, 187, 188, 189, 190, 191, 192, 193, 194, 195, 196, 197, 198, 199, 200, 201, 202, 203, 204, 205, 206, 207, 208, 209, 210, 211, 212, 213, 214, 215, 216, 217, 218, 219, 220, 221, 222, 223, 224, 225, 226, 227, 228, 229, 230, 231, 232, 233, 234, 235, 236, 237, 238, 239, 240, 241, 242, 243, 244, 245, 246, 247, 248, 249, 250, 251, 252, 253, 254, 255, 256, 257, 258, 259, 260, 261, 262, 263, 264, 265, 266, 267, 268, 269, 270, 271, 272, 273, 274, 275, 276, 277, 278, 279, 280, 281, 282, 283, 284, 285, 286, 287, 288, 289, 290, 291, 292, 293, 294, 295, 296, 297, 298, 299, 300, 301, 302, 303, 304, 305, 306, 307, 308, 309, 310, 311, 312, 313, 314, 315, 316, 317, 318, 319, 320, 321, 322, 323, 324, 325, 326, 327, 328, 329, 330, 331, 332, 333, 334, 335, 336, 337, 338, 339, 340, 341, 342, 343, 344, 345, 346, 347, 348, 349, 350, 351, 352, 353, 354, 355, 356, 357, 358, 359, 360, 361, 362, 363, 364, 365, 366, 367, 368, 369, 370, 371, 372, 373, 374, 375, 376, 377, 378, 379, 380, 381, 382, 383, 384, 385, 386, 387, 388, 389, 390, 391, 392, 393, 394, 395, 396, 397, 398, 399, 400, 401, 402, 403, 404, 405, 406, 407, 408, 409, 410, 411, 412, 413, 414, 415, 416, 417, 418, 419, 420, 421, 422, 423, 424, 425, 426, 427, 428, 429, 430, 431, 432, 433, 434, 435, 436, 437, 438, 439, 440, 441, 442, 443, 444, 445, 446, 447, 448, 449, 450, 451, 452, 453, 454, 455, 456, 457, 458, 459, 460, 461, 462, 463, 464, 465, 466, 467, 468, 469, 470, 471, 472, 473, 474, 475, 476, 477, 478, 479, 480, 481, 482, 483, 484, 485, 486, 487, 488, 489, 490, 491, 492, 493, 494, 495, 496, 497, 498, 499, 500, 501, 502, 503, 504, 505, 506, 507, 508, 509, 510, 511, 512, 513, 514, 515, 516, 517, 518, 519, 520, 521, 522, 523, 524, 525, 526, 527, 528, 529, 530, 531, 532, 533, 534, 535, 536, 537, 538, 539, 540, 541, 542, 543, 544, 545, 546, 547, 548, 549, 550, 551, 552, 553, 554, 555, 556, 557, 558, 559, 560, 561, 562, 563, 564, 565, 566, 567, 568, 569, 570, 571, 572, 573, 574, 575, 576, 577, 578, 579, 580, 581, 582, 583, 584, 585, 586, 587, 588, 589, 590, 591, 592, 593, 594, 595, 596, 597, 598, 599, 600, 601, 602, 603, 604, 605, 606, 607, 608, 609, 610, 611, 612, 613, 614, 615, 616, 617, 618, 619, 620, 621, 622, 623, 624, 625, 626, 627, 628, 629, 630, 631, 632, 633, 634, 635, 636, 637, 638, 639, 640, 641, 642, 643, 644, 645, 646, 647, 648, 649, 650, 651, 652, 653, 654, 655, 656, 657, 658, 659, 660, 661, 662, 663, 664, 665, 666, 667, 668, 669, 670, 671, 672, 673, 674, 675, 676, 677, 678, 679, 680, 681, 682, 683, 684, 685, 686, 687, 688, 689, 690, 691, 692, 693, 694, 695, 696, 697, 698, 699, 700, 701, 702, 703, 704, 705, 706, 707, 708, 709, 710, 711, 712, 713, 714, 715, 716, 717, 718, 719, 720, 721, 722, 723, 724, 725, 726, 727, 728, 729, 730, 731, 732, 733, 734, 735, 736, 737, 738, 739, 740, 741, 742, 743, 744, 745, 746, 747, 748, 749, 750, 751, 752, 753, 754, 755, 756, 757, 758, 759, 760, 761, 762, 763, 764, 765, 766, 767, 768, 769, 770, 771, 772, 773, 774, 775, 776, 777, 778, 779, 780, 781, 782, 783, 784, 785, 786, 787, 788, 789, 790, 791, 792, 793, 794, 795, 796, 797, 798, 799, 800, 801, 802, 803, 804, 805, 806, 807, 808, 809, 810, 811, 812, 813, 814, 815, 816, 817, 818, 819, 820, 821, 822, 823, 824, 825, 826, 827, 828, 829, 830, 831, 832, 833, 834, 835, 836, 837, 838, 839, 840, 841, 842, 843, 844, 845, 846, 847, 848, 849, 850, 851, 852, 853, 854, 855, 856, 857, 858, 859, 860, 861, 862, 863, 864, 865, 866, 867, 868, 869, 870, 871, 872, 873, 874, 875, 876, 877, 878, 879, 880, 881, 882, 883, 884, 885, 886, 887, 888, 889, 890, 891, 892, 893, 894, 895, 896, 897, 898, 899, 900, 901, 902, 903, 904, 905, 906, 907, 908, 909, 910, 911, 912, 913, 914, 915, 916, 917, 918, 919, 920, 921, 922, 923, 924, 925, 926, 927, 928, 929, 930, 931, 932, 933, 934, 935, 936, 937, 938, 939, 940, 941, 942, 943, 944, 945, 946, 947, 948, 949, 950, 951, 952, 953, 954, 955, 956, 957, 958, 959, 960, 961, 962, 963, 964, 965, 966, 967, 968, 969, 970, 971, 972, 973, 974, 975, 976, 977, 978, 979, 980, 981, 982, 983, 984, 985, 986, 987, 988, 989, 990, 991, 992, 993, 994, 995, 996, 997, 998, 999, 1000]\n",
      "[7, 14, 21, 28, 35, 42, 49, 56, 63, 70, 77, 84, 91, 98, 105, 112, 119, 126, 133, 140, 147, 154, 161, 168, 175, 182, 189, 196, 203, 210, 217, 224, 231, 238, 245, 252, 259, 266, 273, 280, 287, 294, 301, 308, 315, 322, 329, 336, 343, 350, 357, 364, 371, 378, 385, 392, 399, 406, 413, 420, 427, 434, 441, 448, 455, 462, 469, 476, 483, 490, 497, 504, 511, 518, 525, 532, 539, 546, 553, 560, 567, 574, 581, 588, 595, 602, 609, 616, 623, 630]\n"
     ]
    }
   ],
   "source": [
    "l1 = [i for i in range(1,1001)]\n",
    "l2 = list()\n",
    "print(l1)\n",
    "for num in l1:\n",
    "    if num%7==0:\n",
    "        l2.append(num)   \n",
    "    elif num ==140:\n",
    "        continue\n",
    "    elif num >630:\n",
    "        break\n",
    "print(l2)"
   ]
  },
  {
   "cell_type": "markdown",
   "metadata": {
    "id": "FGLjU0XGc7o1"
   },
   "source": [
    "Define a function that takes a list and prints a new list with no duplicate elements given in the first list."
   ]
  },
  {
   "cell_type": "code",
   "execution_count": 39,
   "metadata": {},
   "outputs": [
    {
     "name": "stdout",
     "output_type": "stream",
     "text": [
      "[1, 2, 3, 4, 5, 6, 7, 8, 9]\n",
      "[1, 2, 3, 4, 5, 6, 7, 8, 9]\n"
     ]
    }
   ],
   "source": [
    "def dup_list(n):\n",
    "    l1 = [i for i in range(1,n)]\n",
    "    l2 = l1.copy()\n",
    "    print(l1)\n",
    "    print(l2)\n",
    "dup_list(10)"
   ]
  },
  {
   "cell_type": "markdown",
   "metadata": {
    "id": "GS6CiCFbdLjf"
   },
   "source": [
    "Write a program to calculate the electricity bill by accepting the number of units consumed by the user as input. Use the following price chart for reference :-\n",
    "\n",
    "Price of first 100 units - no charge\n",
    "\n",
    "Price of next 100 units - Rs 5/- per unit\n",
    "\n",
    "After 200 units - Rs 10/- per unit"
   ]
  },
  {
   "cell_type": "code",
   "execution_count": 44,
   "metadata": {},
   "outputs": [
    {
     "name": "stdin",
     "output_type": "stream",
     "text": [
      "Enter the units consumed 160\n"
     ]
    },
    {
     "name": "stdout",
     "output_type": "stream",
     "text": [
      "Your electricity bill is Rs. 800\n"
     ]
    }
   ],
   "source": [
    "units = int(input(\"Enter the units consumed\"))\n",
    "if units<100:\n",
    "    print(\"No charge\")\n",
    "elif units >=100 and units <=200:\n",
    "    elec_bill = units * 5\n",
    "    print(\"Your electricity bill is Rs.\", elec_bill)\n",
    "elif units >= 200:\n",
    "    elec_bill = units * 10\n",
    "    print(\"Your electricity bill is Rs.\", elec_bill)"
   ]
  }
 ],
 "metadata": {
  "colab": {
   "provenance": []
  },
  "kernelspec": {
   "display_name": "Python 3 (ipykernel)",
   "language": "python",
   "name": "python3"
  },
  "language_info": {
   "codemirror_mode": {
    "name": "ipython",
    "version": 3
   },
   "file_extension": ".py",
   "mimetype": "text/x-python",
   "name": "python",
   "nbconvert_exporter": "python",
   "pygments_lexer": "ipython3",
   "version": "3.11.7"
  }
 },
 "nbformat": 4,
 "nbformat_minor": 4
}
